{
 "cells": [
  {
   "cell_type": "markdown",
   "metadata": {},
   "source": [
    "<h1><b>Valorant Data Collection"
   ]
  },
  {
   "cell_type": "markdown",
   "metadata": {},
   "source": [
    "<h2><b>Imports\n"
   ]
  },
  {
   "cell_type": "code",
   "execution_count": null,
   "metadata": {
    "id": "d37CjHETMUqS"
   },
   "outputs": [],
   "source": [
    "import pandas as pd\n",
    "import requests\n",
    "from bs4 import BeautifulSoup\n",
    "import numpy as np"
   ]
  },
  {
   "cell_type": "markdown",
   "metadata": {},
   "source": [
    "<h2><b>Getting list of top players"
   ]
  },
  {
   "cell_type": "code",
   "execution_count": null,
   "metadata": {
    "id": "e_AoocHfd4BW"
   },
   "outputs": [],
   "source": [
    "top_players_url = []\n",
    "def get_top_players_url(ep = 6, act = 3):\n",
    "    headers={'User-Agent':'Mozilla/5.0 (Windows NT 6.3; Win 64 ; x64) Apple WeKit /537.36(KHTML , like Gecko) Chrome/80.0.3987.162 Safari/537.36'}\n",
    "    url = f'https://blitz.gg/valorant/leaderboards/official?actName=e{ep}act{act}'\n",
    "    webpage=requests.get(url ,headers=headers).text\n",
    "    soup=BeautifulSoup(webpage,'lxml')\n",
    "    for i in range(len(soup.find_all('div', class_ = 'â¡b73efc61 row â¡f6341061'))):\n",
    "        top_players_url.append('https://blitz.gg' + soup.find_all('div', class_ = 'â¡b73efc61 row â¡f6341061')[i].find_all('a')[0].get('href').replace(' ', '%20'))"
   ]
  },
  {
   "cell_type": "code",
   "execution_count": null,
   "metadata": {
    "id": "WvZoj6cwniOD"
   },
   "outputs": [],
   "source": [
    "get_top_players_url(6, 1)\n",
    "get_top_players_url(6, 2)\n",
    "get_top_players_url(6, 3)\n",
    "get_top_players_url(7, 1)"
   ]
  },
  {
   "cell_type": "code",
   "execution_count": null,
   "metadata": {
    "colab": {
     "base_uri": "https://localhost:8080/"
    },
    "id": "f_tazUOziG2o",
    "outputId": "f0d42dce-cc0c-4114-c20c-9cb87bd81baa"
   },
   "outputs": [
    {
     "data": {
      "text/plain": [
       "187"
      ]
     },
     "execution_count": 4,
     "metadata": {},
     "output_type": "execute_result"
    }
   ],
   "source": [
    "def is_ascii(s):\n",
    "    return all(ord(c) < 128 for c in s)\n",
    "for i in top_players_url:\n",
    "    if is_ascii(i) == False:\n",
    "        top_players_url.remove(i)\n",
    "len(top_players_url)"
   ]
  },
  {
   "cell_type": "markdown",
   "metadata": {},
   "source": [
    "<h2><b>Collecting Match URLs of Players"
   ]
  },
  {
   "cell_type": "code",
   "execution_count": null,
   "metadata": {
    "id": "iq9AjEZ7pdZC"
   },
   "outputs": [],
   "source": [
    "match_url = []\n",
    "def get_match_url(player_url, ep, act):\n",
    "    headers={'User-Agent':'Mozilla/5.0 (Windows NT 6.3; Win 64 ; x64) Apple WeKit /537.36(KHTML , like Gecko) Chrome/80.0.3987.162 Safari/537.36'}\n",
    "    url = player_url + f'?actName=e{ep}act{act}'\n",
    "    webpage=requests.get(url ,headers=headers).text\n",
    "    soup=BeautifulSoup(webpage,'lxml')\n",
    "    no_of_matches = len(soup.find_all('a', class_ = \"â¡ae84b94b\"))\n",
    "    for match_ in range(no_of_matches):\n",
    "        match_type = soup.find_all('div', class_ = 'â¡7245df4f')[match_].find_all('p', class_ = 'type-caption queue-name')[0].text.strip()\n",
    "\n",
    "        if match_type == 'Unrated' or match_type == 'Competitive':\n",
    "            map = soup.find_all('div', class_ = 'match-kda')[match_].find_all('p', class_ = 'type-caption match-sub-stat')[0].text.strip()\n",
    "            match_url.append([\"https://blitz.gg\" + soup.find_all('a', class_ = \"â¡ae84b94b\")[match_].get('href'), map])"
   ]
  },
  {
   "cell_type": "code",
   "execution_count": null,
   "metadata": {
    "colab": {
     "base_uri": "https://localhost:8080/"
    },
    "id": "FU2kevBEq-dk",
    "outputId": "a326f562-83b4-4461-9422-6a4233f5a77f"
   },
   "outputs": [
    {
     "name": "stdout",
     "output_type": "stream",
     "text": [
      "1\n",
      "2\n"
     ]
    }
   ],
   "source": [
    "for i, player in enumerate(top_players_url[0:2]):\n",
    "    get_match_url(player, 6, 1)\n",
    "    get_match_url(player, 6, 2)\n",
    "    get_match_url(player, 6, 3)\n",
    "    get_match_url(player, 7, 1)\n",
    "    print(i+1)"
   ]
  },
  {
   "cell_type": "code",
   "execution_count": null,
   "metadata": {
    "colab": {
     "base_uri": "https://localhost:8080/"
    },
    "id": "xz8F02Qmv_32",
    "outputId": "36d7ecec-3ab6-4a3d-85b5-36ce1affe6f1"
   },
   "outputs": [
    {
     "data": {
      "text/plain": [
       "48"
      ]
     },
     "execution_count": 12,
     "metadata": {},
     "output_type": "execute_result"
    }
   ],
   "source": [
    "len(match_url)"
   ]
  },
  {
   "cell_type": "code",
   "execution_count": null,
   "metadata": {
    "id": "OmTTbY2M2ESr"
   },
   "outputs": [],
   "source": [
    "import pickle\n",
    "pickle.dump(match_url, open('match_url.pkl', 'wb'))"
   ]
  },
  {
   "cell_type": "code",
   "execution_count": null,
   "metadata": {
    "id": "gVn0XWIG2iHM"
   },
   "outputs": [],
   "source": [
    "file = open('/content/match_url.pkl', 'rb')\n",
    "match_url = pickle.load(file)\n",
    "file.close()\n",
    "len(match_url)"
   ]
  },
  {
   "cell_type": "code",
   "execution_count": null,
   "metadata": {
    "id": "T7-fNQa01gbg"
   },
   "outputs": [],
   "source": [
    "match_url[0][0].split('/')[-1]"
   ]
  },
  {
   "cell_type": "code",
   "execution_count": null,
   "metadata": {
    "id": "KvAOmrY1aMQu"
   },
   "outputs": [],
   "source": [
    "match_dataset = {}"
   ]
  },
  {
   "cell_type": "markdown",
   "metadata": {},
   "source": [
    "<h2><b>Collecting Match Data"
   ]
  },
  {
   "cell_type": "code",
   "execution_count": null,
   "metadata": {
    "id": "2Qml572xT2qc"
   },
   "outputs": [],
   "source": [
    "def get_match_data(match_):\n",
    "    try:\n",
    "        headers={'User-Agent':'Mozilla/5.0 (Windows NT 6.3; Win 64 ; x64) Apple WeKit /537.36(KHTML , like Gecko) Chrome/80.0.3987.162 Safari/537.36'}\n",
    "\n",
    "        url = match_[0]\n",
    "        webpage=requests.get(url ,headers=headers).text\n",
    "        soup=BeautifulSoup(webpage,'lxml')\n",
    "        player = soup.find_all('div', class_ = 'â¡248204a8')[0]\n",
    "\n",
    "        # match_id = match_[0][0].split('/')[-1]\n",
    "        map = match_[1]\n",
    "        match_dataset[url] = [map]\n",
    "\n",
    "        outcome = soup.find_all('h1', class_ = 'flex type-h5')[0].text.strip()\n",
    "\n",
    "        agent = player.find_all('img')[0].get('src').replace('https://blitz-cdn.blitz.gg/blitz/val/agents/matchtile/', '').replace('-art-withBG.webp', '').replace('-art-withBG-2.webp', '')\n",
    "        avg_score = int(player.find_all('div', class_ = 'col-score')[0].find_all('p')[0].text.strip())\n",
    "        KDA = player.find_all('div', class_ = 'col-kda')[0].find_all('p')[0].text.strip().replace('/', '').split('  ')\n",
    "        kill = int(KDA[0])\n",
    "        death = int(KDA[1])\n",
    "        assist = int(KDA[2])\n",
    "        KD = float(kill/death)\n",
    "        KD = round(KD, 2)\n",
    "        Econ = int(player.find_all('div', class_ = 'col-economy')[0].find_all('p')[0].text.strip())\n",
    "        match_dataset[url].append(agent)\n",
    "        match_dataset[url].append(KD)\n",
    "        match_dataset[url].append(Econ)\n",
    "        match_dataset[url].append(avg_score)\n",
    "\n",
    "        for player_no in range(4):\n",
    "            player = soup.find_all('div', class_ = 'â¡e80812ff')[player_no]\n",
    "            agent = player.find_all('img')[0].get('src').replace('https://blitz-cdn.blitz.gg/blitz/val/agents/matchtile/', '').replace('-art-withBG.webp', '').replace('-art-withBG-2.webp', '')\n",
    "            avg_score = int(player.find_all('div', class_ = 'col-score')[0].find_all('p')[0].text.strip())\n",
    "            KDA = player.find_all('div', class_ = 'col-kda')[0].find_all('p')[0].text.strip().replace('/', '').split('  ')\n",
    "            kill = int(KDA[0])\n",
    "            death = int(KDA[1])\n",
    "            assist = int(KDA[2])\n",
    "            KD = float(kill/death)\n",
    "            KD = round(KD, 2)\n",
    "            Econ = int(player.find_all('div', class_ = 'col-economy')[0].find_all('p')[0].text.strip())\n",
    "            match_dataset[url].append(agent)\n",
    "            match_dataset[url].append(KD)\n",
    "            match_dataset[url].append(Econ)\n",
    "            match_dataset[url].append(avg_score)\n",
    "\n",
    "        for player_no in range(5):\n",
    "            player = soup.find_all('div', class_ = 'â¡dbae468a')[player_no]\n",
    "            agent = player.find_all('img')[0].get('src').replace('https://blitz-cdn.blitz.gg/blitz/val/agents/matchtile/', '').replace('-art-withBG.webp', '').replace('-art-withBG-2.webp', '')\n",
    "            avg_score = int(player.find_all('div', class_ = 'col-score')[0].find_all('p')[0].text.strip())\n",
    "            KDA = player.find_all('div', class_ = 'col-kda')[0].find_all('p')[0].text.strip().replace('/', '').split('  ')\n",
    "            kill = int(KDA[0])\n",
    "            death = int(KDA[1])\n",
    "            assist = int(KDA[2])\n",
    "            KD = float(kill/death)\n",
    "            KD = round(KD, 2)\n",
    "            Econ = int(player.find_all('div', class_ = 'col-economy')[0].find_all('p')[0].text.strip())\n",
    "            match_dataset[url].append(agent)\n",
    "            match_dataset[url].append(KD)\n",
    "            match_dataset[url].append(Econ)\n",
    "            match_dataset[url].append(avg_score)\n",
    "\n",
    "        match_dataset[url].append(outcome)\n",
    "    except:\n",
    "        pass"
   ]
  },
  {
   "cell_type": "code",
   "execution_count": null,
   "metadata": {
    "colab": {
     "base_uri": "https://localhost:8080/"
    },
    "id": "C0ovr6SBMdzt",
    "outputId": "70789fe5-f3ce-46f1-fa5e-5c9f846f3987"
   },
   "outputs": [
    {
     "data": {
      "text/plain": [
       "0"
      ]
     },
     "execution_count": 29,
     "metadata": {},
     "output_type": "execute_result"
    }
   ],
   "source": [
    "len(match_dataset)"
   ]
  },
  {
   "cell_type": "markdown",
   "metadata": {},
   "source": [
    "<h3>Fetching Data in Batch\n"
   ]
  },
  {
   "cell_type": "code",
   "execution_count": null,
   "metadata": {
    "id": "wnveCfG4MXZl"
   },
   "outputs": [],
   "source": [
    "for i in range(0, 1000):\n",
    "    get_match_data(match_url[i])\n",
    "    print(i+1)"
   ]
  },
  {
   "cell_type": "code",
   "execution_count": null,
   "metadata": {
    "id": "-pmSNeWMNfIB"
   },
   "outputs": [],
   "source": [
    "len(match_dataset)"
   ]
  },
  {
   "cell_type": "code",
   "execution_count": null,
   "metadata": {
    "id": "bwxNdFG4NEkq"
   },
   "outputs": [],
   "source": [
    "for i in range(1000, 2000):\n",
    "    get_match_data(match_url[i])\n",
    "    print(i+1)"
   ]
  },
  {
   "cell_type": "code",
   "execution_count": null,
   "metadata": {
    "id": "ZQML_NgKNgbw"
   },
   "outputs": [],
   "source": [
    "len(match_dataset)"
   ]
  },
  {
   "cell_type": "code",
   "execution_count": null,
   "metadata": {
    "id": "BoOyukJyNGyh"
   },
   "outputs": [],
   "source": [
    "for i in range(2000, 3000):\n",
    "    get_match_data(match_url[i])\n",
    "    print(i+1)"
   ]
  },
  {
   "cell_type": "code",
   "execution_count": null,
   "metadata": {
    "id": "CKlk63p7Ng_Y"
   },
   "outputs": [],
   "source": [
    "len(match_dataset)"
   ]
  },
  {
   "cell_type": "code",
   "execution_count": null,
   "metadata": {
    "id": "yAzOZw6WNI1U"
   },
   "outputs": [],
   "source": [
    "for i in range(3000, 4000):\n",
    "    get_match_data(match_url[i])\n",
    "    print(i+1)"
   ]
  },
  {
   "cell_type": "code",
   "execution_count": null,
   "metadata": {
    "id": "5MpMhHQ2Nhnp"
   },
   "outputs": [],
   "source": [
    "len(match_dataset)"
   ]
  },
  {
   "cell_type": "code",
   "execution_count": null,
   "metadata": {
    "id": "WucPP3OdNLFB"
   },
   "outputs": [],
   "source": [
    "for i in range(4000, 5000):\n",
    "    get_match_data(match_url[i])\n",
    "    print(i+1)"
   ]
  },
  {
   "cell_type": "code",
   "execution_count": null,
   "metadata": {
    "id": "Lz0gxIpONiFI"
   },
   "outputs": [],
   "source": [
    "len(match_dataset)"
   ]
  },
  {
   "cell_type": "code",
   "execution_count": null,
   "metadata": {
    "colab": {
     "background_save": true
    },
    "id": "1tczHAaRNNad"
   },
   "outputs": [],
   "source": [
    "for i in range(5000, 6623):\n",
    "    get_match_data(match_url[i])\n",
    "    print(i+1)"
   ]
  },
  {
   "cell_type": "code",
   "execution_count": null,
   "metadata": {
    "colab": {
     "background_save": true
    },
    "id": "J0CWZxFaNigk"
   },
   "outputs": [],
   "source": [
    "len(match_dataset)"
   ]
  },
  {
   "cell_type": "code",
   "execution_count": null,
   "metadata": {
    "id": "_ikGruXR56_L"
   },
   "outputs": [],
   "source": [
    "# for i in range(len(match_url)):\n",
    "# # for i in range(10):\n",
    "#     get_match_data(match_url[i])\n",
    "#     print(i+1)"
   ]
  },
  {
   "cell_type": "code",
   "execution_count": null,
   "metadata": {
    "id": "wgok7N9I87ZY"
   },
   "outputs": [],
   "source": [
    "from pprint import pprint\n",
    "pprint(match_dataset)"
   ]
  },
  {
   "cell_type": "markdown",
   "metadata": {},
   "source": [
    "<h2><b>Changing Collected Data Format"
   ]
  },
  {
   "cell_type": "code",
   "execution_count": null,
   "metadata": {
    "id": "HGTOVvJ6pfrj"
   },
   "outputs": [],
   "source": [
    "import pandas as pd\n",
    "columns = ['map', 'A_player_1_agent', 'A_player_1_KD', 'A_player_1_Econ', 'A_player_1_avg_score',\n",
    "           'A_player_2_agent', 'A_player_2_KD', 'A_player_2_Econ', 'A_player_2_avg_score',\n",
    "           'A_player_3_agent', 'A_player_3_KD', 'A_player_3_Econ', 'A_player_3_avg_score',\n",
    "           'A_player_4_agent', 'A_player_4_KD', 'A_player_4_Econ', 'A_player_4_avg_score',\n",
    "           'A_player_5_agent', 'A_player_5_KD', 'A_player_5_Econ', 'A_player_5_avg_score',\n",
    "           'B_player_1_agent', 'B_player_1_KD', 'B_player_1_Econ', 'B_player_1_avg_score',\n",
    "           'B_player_2_agent', 'B_player_2_KD', 'B_player_2_Econ', 'B_player_2_avg_score',\n",
    "           'B_player_3_agent', 'B_player_3_KD', 'B_player_3_Econ', 'B_player_3_avg_score',\n",
    "           'B_player_4_agent', 'B_player_4_KD', 'B_player_4_Econ', 'B_player_4_avg_score',\n",
    "           'B_player_5_agent', 'B_player_5_KD', 'B_player_5_Econ', 'B_player_5_avg_score',\n",
    "           'A_outcome']\n",
    "dataset = pd.DataFrame.from_dict(match_dataset, orient='index', columns=columns).reset_index()\n",
    "dataset"
   ]
  },
  {
   "cell_type": "markdown",
   "metadata": {},
   "source": [
    "<h2><b>Saving Dataset"
   ]
  },
  {
   "cell_type": "code",
   "execution_count": null,
   "metadata": {
    "id": "cqAKyZsrPzfs"
   },
   "outputs": [],
   "source": [
    "pickle.dump(dataset, open('valo_dataset.pkl', 'wb'))"
   ]
  }
 ],
 "metadata": {
  "colab": {
   "provenance": []
  },
  "kernelspec": {
   "display_name": "Python 3 (ipykernel)",
   "language": "python",
   "name": "python3"
  },
  "language_info": {
   "codemirror_mode": {
    "name": "ipython",
    "version": 3
   },
   "file_extension": ".py",
   "mimetype": "text/x-python",
   "name": "python",
   "nbconvert_exporter": "python",
   "pygments_lexer": "ipython3",
   "version": "3.9.7"
  }
 },
 "nbformat": 4,
 "nbformat_minor": 1
}
